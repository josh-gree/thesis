{
 "cells": [
  {
   "cell_type": "code",
   "execution_count": 1,
   "metadata": {
    "collapsed": true
   },
   "outputs": [],
   "source": [
    "import pandas as pd\n",
    "import numpy as np\n",
    "import pickle\n",
    "from scipy import interpolate\n",
    "from scipy.optimize import brentq"
   ]
  },
  {
   "cell_type": "code",
   "execution_count": 2,
   "metadata": {
    "collapsed": false
   },
   "outputs": [
    {
     "data": {
      "text/plain": [
       "['ls: /scratch/jdg1g14/all_resultspc1/vox*: No such file or directory',\n",
       " 'ls: /scratch/jdg1g14/all_resultspc2/vox*: No such file or directory']"
      ]
     },
     "execution_count": 2,
     "metadata": {},
     "output_type": "execute_result"
    }
   ],
   "source": [
    "a = !ls /scratch/jdg1g14/all_resultspc1/vox*\n",
    "b = !ls /scratch/jdg1g14/all_resultspc2/vox*\n",
    "files = a+b\n",
    "files"
   ]
  },
  {
   "cell_type": "code",
   "execution_count": 19,
   "metadata": {
    "collapsed": false
   },
   "outputs": [],
   "source": [
    "sig_coeffs = pickle.load( open( \"ERF_Sigmoid_Coeffs.p\", \"rb\" ) )"
   ]
  },
  {
   "cell_type": "code",
   "execution_count": 20,
   "metadata": {
    "collapsed": true
   },
   "outputs": [],
   "source": [
    "def PSF(coeffs):\n",
    "    \n",
    "    rss = np.linspace(25,35,100)\n",
    "    \n",
    "    Y = sigmoid(rss,*coeffs)\n",
    "    PSF = np.diff(Y)\n",
    "    \n",
    "    f = interpolate.interp1d(np.linspace(25,35,99),-PSF/max(-PSF))\n",
    "    \n",
    "    def opti_f(x):\n",
    "        return f(x) - 0.5\n",
    "    \n",
    "    half_width = brentq(opti_f,30,35)\n",
    "    \n",
    "    return half_width,PSF\n",
    "\n",
    "def sigmoid(x, a,x0, k,d):\n",
    "    y = a / (1 + np.exp(-k*(x-x0))) + d\n",
    "    return y"
   ]
  },
  {
   "cell_type": "code",
   "execution_count": 21,
   "metadata": {
    "collapsed": false
   },
   "outputs": [],
   "source": [
    "fout = open('halfwidths_PSF.dat','w')\n",
    "PSFs = []\n",
    "for ind,file in enumerate(files):\n",
    "    fout.write(file)\n",
    "    PSF_file = []\n",
    "    for i in range(3):\n",
    "        width,modtransfunc = PSF(sig_coeffs[ind][i])\n",
    "        fout.write(','+str(width))\n",
    "        PSF_file.append(modtransfunc)\n",
    "    fout.write('\\n')\n",
    "    PSFs.append(PSF_file)\n",
    "fout.close()"
   ]
  },
  {
   "cell_type": "code",
   "execution_count": 22,
   "metadata": {
    "collapsed": false
   },
   "outputs": [
    {
     "data": {
      "text/html": [
       "<div>\n",
       "<table border=\"1\" class=\"dataframe\">\n",
       "  <thead>\n",
       "    <tr style=\"text-align: right;\">\n",
       "      <th></th>\n",
       "      <th>name</th>\n",
       "      <th>xslice</th>\n",
       "      <th>yslice</th>\n",
       "      <th>zslice</th>\n",
       "      <th>Index</th>\n",
       "      <th>mag</th>\n",
       "      <th>exp</th>\n",
       "      <th>Soffset</th>\n",
       "      <th>Doffset</th>\n",
       "    </tr>\n",
       "  </thead>\n",
       "  <tbody>\n",
       "    <tr>\n",
       "      <th>0</th>\n",
       "      <td>/scratch/jdg1g14/all_resultspc1/vox_1.5_1_D0_S...</td>\n",
       "      <td>0.344026</td>\n",
       "      <td>0.467851</td>\n",
       "      <td>0.467848</td>\n",
       "      <td>0</td>\n",
       "      <td>1.5</td>\n",
       "      <td>1</td>\n",
       "      <td>0</td>\n",
       "      <td>0</td>\n",
       "    </tr>\n",
       "    <tr>\n",
       "      <th>1</th>\n",
       "      <td>/scratch/jdg1g14/all_resultspc1/vox_1.5_1_D0_S...</td>\n",
       "      <td>0.527367</td>\n",
       "      <td>0.576481</td>\n",
       "      <td>0.576794</td>\n",
       "      <td>1</td>\n",
       "      <td>1.5</td>\n",
       "      <td>1</td>\n",
       "      <td>1</td>\n",
       "      <td>0</td>\n",
       "    </tr>\n",
       "    <tr>\n",
       "      <th>2</th>\n",
       "      <td>/scratch/jdg1g14/all_resultspc1/vox_1.5_1_D1_S...</td>\n",
       "      <td>0.826644</td>\n",
       "      <td>0.827007</td>\n",
       "      <td>0.830890</td>\n",
       "      <td>2</td>\n",
       "      <td>1.5</td>\n",
       "      <td>1</td>\n",
       "      <td>0</td>\n",
       "      <td>1</td>\n",
       "    </tr>\n",
       "    <tr>\n",
       "      <th>3</th>\n",
       "      <td>/scratch/jdg1g14/all_resultspc1/vox_1.5_1_D1_S...</td>\n",
       "      <td>0.896168</td>\n",
       "      <td>0.897161</td>\n",
       "      <td>0.896359</td>\n",
       "      <td>3</td>\n",
       "      <td>1.5</td>\n",
       "      <td>1</td>\n",
       "      <td>1</td>\n",
       "      <td>1</td>\n",
       "    </tr>\n",
       "    <tr>\n",
       "      <th>4</th>\n",
       "      <td>/scratch/jdg1g14/all_resultspc1/vox_1.5_2_D0_S...</td>\n",
       "      <td>0.344029</td>\n",
       "      <td>0.467850</td>\n",
       "      <td>0.467851</td>\n",
       "      <td>4</td>\n",
       "      <td>1.5</td>\n",
       "      <td>2</td>\n",
       "      <td>0</td>\n",
       "      <td>0</td>\n",
       "    </tr>\n",
       "  </tbody>\n",
       "</table>\n",
       "</div>"
      ],
      "text/plain": [
       "                                                name    xslice    yslice  \\\n",
       "0  /scratch/jdg1g14/all_resultspc1/vox_1.5_1_D0_S...  0.344026  0.467851   \n",
       "1  /scratch/jdg1g14/all_resultspc1/vox_1.5_1_D0_S...  0.527367  0.576481   \n",
       "2  /scratch/jdg1g14/all_resultspc1/vox_1.5_1_D1_S...  0.826644  0.827007   \n",
       "3  /scratch/jdg1g14/all_resultspc1/vox_1.5_1_D1_S...  0.896168  0.897161   \n",
       "4  /scratch/jdg1g14/all_resultspc1/vox_1.5_2_D0_S...  0.344029  0.467850   \n",
       "\n",
       "     zslice  Index  mag  exp  Soffset  Doffset  \n",
       "0  0.467848      0  1.5    1        0        0  \n",
       "1  0.576794      1  1.5    1        1        0  \n",
       "2  0.830890      2  1.5    1        0        1  \n",
       "3  0.896359      3  1.5    1        1        1  \n",
       "4  0.467851      4  1.5    2        0        0  "
      ]
     },
     "execution_count": 22,
     "metadata": {},
     "output_type": "execute_result"
    }
   ],
   "source": [
    "df2 = pd.read_csv('halfwidths_PSF.dat',header=None,names=['name','xslice','yslice', \\\n",
    "                                                          'zslice','Index'])\n",
    "df2.Index = df2.index\n",
    "\n",
    "df2['mag'] = df2.name.apply(lambda x : float(x.split('/')[-1].split('_')[1]))\n",
    "df2['exp'] = df2.name.apply(lambda x : float(x.split('/')[-1].split('_')[2]))\n",
    "df2['Soffset'] = df2.name.apply(lambda x : 1.0 if x.split('/')[-1].split('_')[4][1] == '1' \\\n",
    "                                else 0.0)\n",
    "df2['Doffset'] = df2.name.apply(lambda x : 1.0 if x.split('/')[-1].split('_')[3][1] == '1' \\\n",
    "                                else 0.0)\n",
    "df2.xslice = df2.xslice.apply(lambda x : np.abs(30-x))\n",
    "df2.yslice = df2.yslice.apply(lambda x : np.abs(30-x))\n",
    "df2.zslice = df2.zslice.apply(lambda x : np.abs(30-x))\n",
    "df2.head()"
   ]
  },
  {
   "cell_type": "code",
   "execution_count": 23,
   "metadata": {
    "collapsed": true
   },
   "outputs": [],
   "source": [
    "df2.to_pickle('PSFHalfPolar.p')"
   ]
  }
 ],
 "metadata": {
  "kernelspec": {
   "display_name": "Python 3",
   "language": "python",
   "name": "python3"
  },
  "language_info": {
   "codemirror_mode": {
    "name": "ipython",
    "version": 3
   },
   "file_extension": ".py",
   "mimetype": "text/x-python",
   "name": "python",
   "nbconvert_exporter": "python",
   "pygments_lexer": "ipython3",
   "version": "3.3.5"
  }
 },
 "nbformat": 4,
 "nbformat_minor": 0
}
