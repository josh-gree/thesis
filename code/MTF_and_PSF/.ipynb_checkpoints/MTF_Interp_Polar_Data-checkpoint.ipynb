{
 "cells": [
  {
   "cell_type": "markdown",
   "metadata": {},
   "source": [
    "# !!WILL NOT WORK WITHOUT VOXEL DATA!!"
   ]
  },
  {
   "cell_type": "markdown",
   "metadata": {},
   "source": [
    "If you have the voxel data then all code will work if the \"files\" variable contains string representations of the paths to each voxel file."
   ]
  },
  {
   "cell_type": "code",
   "execution_count": 1,
   "metadata": {
    "collapsed": false
   },
   "outputs": [
    {
     "ename": "OSError",
     "evalue": "Connection file '~/.ipython/profile_default/security/ipcontroller-client.json' not found.\nYou have attempted to connect to an IPython Cluster but no Controller could be found.\nPlease double-check your configuration and ensure that a cluster is running.",
     "output_type": "error",
     "traceback": [
      "\u001b[0;31m---------------------------------------------------------------------------\u001b[0m",
      "\u001b[0;31mOSError\u001b[0m                                   Traceback (most recent call last)",
      "\u001b[0;32m<ipython-input-1-5245488d15e2>\u001b[0m in \u001b[0;36m<module>\u001b[0;34m()\u001b[0m\n\u001b[1;32m      1\u001b[0m \u001b[0;31m# initiate ipython parrallel on 45 cores\u001b[0m\u001b[0;34m\u001b[0m\u001b[0;34m\u001b[0m\u001b[0m\n\u001b[1;32m      2\u001b[0m \u001b[0;32mfrom\u001b[0m \u001b[0mIPython\u001b[0m \u001b[0;32mimport\u001b[0m \u001b[0mparallel\u001b[0m\u001b[0;34m\u001b[0m\u001b[0m\n\u001b[0;32m----> 3\u001b[0;31m \u001b[0mclients\u001b[0m \u001b[0;34m=\u001b[0m \u001b[0mparallel\u001b[0m\u001b[0;34m.\u001b[0m\u001b[0mClient\u001b[0m\u001b[0;34m(\u001b[0m\u001b[0;34m)\u001b[0m\u001b[0;34m\u001b[0m\u001b[0m\n\u001b[0m\u001b[1;32m      4\u001b[0m \u001b[0mclients\u001b[0m\u001b[0;34m.\u001b[0m\u001b[0mblock\u001b[0m \u001b[0;34m=\u001b[0m \u001b[0;32mTrue\u001b[0m\u001b[0;34m\u001b[0m\u001b[0m\n\u001b[1;32m      5\u001b[0m \u001b[0mprint\u001b[0m\u001b[0;34m(\u001b[0m\u001b[0mclients\u001b[0m\u001b[0;34m.\u001b[0m\u001b[0mids\u001b[0m\u001b[0;34m)\u001b[0m\u001b[0;34m\u001b[0m\u001b[0m\n",
      "\u001b[0;32m/Users/joshua/anaconda/envs/py3/lib/python3.3/site-packages/IPython/parallel/client/client.py\u001b[0m in \u001b[0;36m__init__\u001b[0;34m(self, url_file, profile, profile_dir, ipython_dir, context, debug, sshserver, sshkey, password, paramiko, timeout, cluster_id, **extra_args)\u001b[0m\n\u001b[1;32m    405\u001b[0m                         \u001b[0mno_file_msg\u001b[0m\u001b[0;34m,\u001b[0m\u001b[0;34m\u001b[0m\u001b[0m\n\u001b[1;32m    406\u001b[0m                     ])\n\u001b[0;32m--> 407\u001b[0;31m                     \u001b[0;32mraise\u001b[0m \u001b[0mIOError\u001b[0m\u001b[0;34m(\u001b[0m\u001b[0mmsg\u001b[0m\u001b[0;34m)\u001b[0m\u001b[0;34m\u001b[0m\u001b[0m\n\u001b[0m\u001b[1;32m    408\u001b[0m         \u001b[0;32mif\u001b[0m \u001b[0murl_file\u001b[0m \u001b[0;32mis\u001b[0m \u001b[0;32mNone\u001b[0m\u001b[0;34m:\u001b[0m\u001b[0;34m\u001b[0m\u001b[0m\n\u001b[1;32m    409\u001b[0m             \u001b[0;32mraise\u001b[0m \u001b[0mIOError\u001b[0m\u001b[0;34m(\u001b[0m\u001b[0mno_file_msg\u001b[0m\u001b[0;34m)\u001b[0m\u001b[0;34m\u001b[0m\u001b[0m\n",
      "\u001b[0;31mOSError\u001b[0m: Connection file '~/.ipython/profile_default/security/ipcontroller-client.json' not found.\nYou have attempted to connect to an IPython Cluster but no Controller could be found.\nPlease double-check your configuration and ensure that a cluster is running."
     ]
    }
   ],
   "source": [
    "# initiate ipython parrallel on 45 cores\n",
    "from IPython import parallel\n",
    "clients = parallel.Client()\n",
    "clients.block = True\n",
    "print(clients.ids)\n",
    "\n",
    "lview = clients.load_balanced_view()"
   ]
  },
  {
   "cell_type": "code",
   "execution_count": 2,
   "metadata": {
    "collapsed": true
   },
   "outputs": [],
   "source": [
    "import pandas as pd"
   ]
  },
  {
   "cell_type": "code",
   "execution_count": 11,
   "metadata": {
    "collapsed": true
   },
   "outputs": [],
   "source": [
    "%%px --local # imports on all cores\n",
    "from scipy import io\n",
    "import h5py\n",
    "import numpy as np\n",
    "import itertools\n",
    "from scipy.interpolate import interp1d\n",
    "from scipy import ndimage\n",
    "from scipy.optimize import fsolve,brentq,fmin_cg,brute,bisect,newton"
   ]
  },
  {
   "cell_type": "code",
   "execution_count": 5,
   "metadata": {
    "collapsed": true
   },
   "outputs": [],
   "source": [
    "# calculate sample points along radial lines\n",
    "\n",
    "%%px --local\n",
    "# transform from spatial coordinates to array coordinates\n",
    "m = interp1d([-35,35],[0,300])\n",
    "conv_vec = lambda vec: np.array([m(vec[0]),m(vec[1]),m(vec[2])])\n",
    "\n",
    "\n",
    "vals = [-35,35]\n",
    "x = 10\n",
    "\n",
    "# x,y and z planes 45deg\n",
    "zplane = [np.array([35,35,0]),np.array([-35,35,0]),np.array([35,-35,0]),np.array([-35,-35,0])]\n",
    "xplane = [np.array([0,35,35]),np.array([0,35,-35]),np.array([0,-35,35]),np.array([0,-35,-35])]\n",
    "yplane = [np.array([35,0,35]),np.array([-35,0,35]),np.array([35,0,-35]),np.array([-35,0,-35])]\n",
    "edge_t_plane = 30/np.linalg.norm(zplane[0])\n",
    "a = np.sqrt((x**2)/(4*np.dot(zplane[0],zplane[0])))\n",
    "zplane_samples_actual = [[vec*t for t in np.linspace(edge_t_plane-a,edge_t_plane+a,100)] \\\n",
    "                         for vec in zplane]\n",
    "xplane_samples_actual = [[vec*t for t in np.linspace(edge_t_plane-a,edge_t_plane+a,100)] \\\n",
    "                         for vec in xplane]\n",
    "yplane_samples_actual = [[vec*t for t in np.linspace(edge_t_plane-a,edge_t_plane+a,100)] \\\n",
    "                         for vec in yplane]\n",
    "\n",
    "zplane_samples = [np.array([conv_vec(vec) for vec in sample]).T \\\n",
    "                  for sample in zplane_samples_actual]\n",
    "xplane_samples = [np.array([conv_vec(vec) for vec in sample]).T \\\n",
    "                  for sample in xplane_samples_actual]\n",
    "yplane_samples = [np.array([conv_vec(vec) for vec in sample]).T \\\n",
    "                  for sample in yplane_samples_actual]\n",
    "\n",
    "allsamples = zplane_samples + xplane_samples + yplane_samples"
   ]
  },
  {
   "cell_type": "code",
   "execution_count": 6,
   "metadata": {
    "collapsed": true
   },
   "outputs": [],
   "source": [
    "%%px --local\n",
    "def MTF(samples,sphere):\n",
    "    '''\n",
    "    Function to calculate the MTF from a selection of samples and a \n",
    "    reconstructed volume\n",
    "    \n",
    "    samples -> list of sample points\n",
    "    sphere -> 3d voxel array\n",
    "    \n",
    "    X -> returns MTF curve\n",
    "    '''\n",
    "    Y = ndimage.map_coordinates(sphere, samples, order=5)\n",
    "    dY = np.diff(Y)\n",
    "    fftdY = np.fft.fft(dY)\n",
    "    X =np.abs(fftdY)\n",
    "    return X"
   ]
  },
  {
   "cell_type": "code",
   "execution_count": 18,
   "metadata": {
    "collapsed": true
   },
   "outputs": [],
   "source": [
    "%%px --local\n",
    "def half_width_calc(sphere):\n",
    "    '''\n",
    "    Function to calculate the MTF half width for a set of edge profiles\n",
    "    from a given voxel array\n",
    "    \n",
    "    shpere -> 3d voxel array\n",
    "    \n",
    "    hlf_widths -> returns half width of MTF from each radial profile\n",
    "    '''\n",
    "    \n",
    "    hlf_widths = []\n",
    "    for sample in allsamples:\n",
    "        \n",
    "        MTF_out = MTF(sample,sphere) # calculate MTF\n",
    "        f = interp1d(np.linspace(-10,10,99),np.fft.fftshift(MTF_out)) # Interpolate linearly\n",
    "        \n",
    "        # solve function to find half width\n",
    "        try:\n",
    "            hlf_wdth = brentq(lambda x: f(x) - 0.5,0,5) \n",
    "        except:\n",
    "            hlf_wdth = 'error'\n",
    "            \n",
    "        hlf_widths.append(hlf_wdth)\n",
    "        \n",
    "    return hlf_widths\n",
    "\n",
    "\n",
    "def MTF_calcs(fname,ind):\n",
    "    '''\n",
    "    Calculate all half widths for a given filename\n",
    "    \n",
    "    fname -> path to hdf5 file containing voxel data\n",
    "    ind -> dummy argument for use in parrallel map\n",
    "    \n",
    "    vals -> returns MTF half widths\n",
    "    '''\n",
    "    sphere = h5py.File(fname)['img']['vox'].value\n",
    "    vals = [fname.split('/')[-1]]\n",
    "    vals += half_width_calc(sphere)\n",
    "    \n",
    "    return vals"
   ]
  },
  {
   "cell_type": "code",
   "execution_count": null,
   "metadata": {
    "collapsed": false,
    "scrolled": true
   },
   "outputs": [],
   "source": [
    "# create list of all voxel array paths\n",
    "%%px --local\n",
    "a = !ls /scratch/jdg1g14/all_resultspc1/vox*\n",
    "b = !ls /scratch/jdg1g14/all_resultspc2/vox*\n",
    "files = a+b\n",
    "files"
   ]
  },
  {
   "cell_type": "code",
   "execution_count": 22,
   "metadata": {
    "collapsed": true
   },
   "outputs": [],
   "source": [
    "# parallel map over all voxel data\n",
    "out = lview.map(MTF_calcs,files,range(len(files))) "
   ]
  },
  {
   "cell_type": "code",
   "execution_count": 56,
   "metadata": {
    "collapsed": false
   },
   "outputs": [
    {
     "data": {
      "text/html": [
       "<div>\n",
       "<table border=\"1\" class=\"dataframe\">\n",
       "  <thead>\n",
       "    <tr style=\"text-align: right;\">\n",
       "      <th></th>\n",
       "      <th>fname</th>\n",
       "      <th>X1</th>\n",
       "      <th>X2</th>\n",
       "      <th>X3</th>\n",
       "      <th>X4</th>\n",
       "      <th>Y1</th>\n",
       "      <th>Y2</th>\n",
       "      <th>Y3</th>\n",
       "      <th>Y4</th>\n",
       "      <th>Z1</th>\n",
       "      <th>Z2</th>\n",
       "      <th>Z3</th>\n",
       "      <th>Z4</th>\n",
       "      <th>mag</th>\n",
       "      <th>D</th>\n",
       "      <th>S</th>\n",
       "      <th>exp</th>\n",
       "    </tr>\n",
       "  </thead>\n",
       "  <tbody>\n",
       "    <tr>\n",
       "      <th>0</th>\n",
       "      <td>vox_1.5_1_D0_S0.mat</td>\n",
       "      <td>0.930477</td>\n",
       "      <td>0.930497</td>\n",
       "      <td>0.930508</td>\n",
       "      <td>0.930518</td>\n",
       "      <td>1.125532</td>\n",
       "      <td>1.125566</td>\n",
       "      <td>1.125579</td>\n",
       "      <td>1.125552</td>\n",
       "      <td>0.930488</td>\n",
       "      <td>0.930508</td>\n",
       "      <td>0.930488</td>\n",
       "      <td>0.930517</td>\n",
       "      <td>1.5</td>\n",
       "      <td>0</td>\n",
       "      <td>0</td>\n",
       "      <td>1</td>\n",
       "    </tr>\n",
       "    <tr>\n",
       "      <th>1</th>\n",
       "      <td>vox_1.5_1_D0_S1.mat</td>\n",
       "      <td>0.678586</td>\n",
       "      <td>0.683349</td>\n",
       "      <td>0.683018</td>\n",
       "      <td>0.688339</td>\n",
       "      <td>0.746435</td>\n",
       "      <td>0.739818</td>\n",
       "      <td>0.737046</td>\n",
       "      <td>0.740083</td>\n",
       "      <td>0.682981</td>\n",
       "      <td>0.683390</td>\n",
       "      <td>0.685119</td>\n",
       "      <td>0.681977</td>\n",
       "      <td>1.5</td>\n",
       "      <td>0</td>\n",
       "      <td>1</td>\n",
       "      <td>1</td>\n",
       "    </tr>\n",
       "    <tr>\n",
       "      <th>2</th>\n",
       "      <td>vox_1.5_1_D1_S0.mat</td>\n",
       "      <td>0.485466</td>\n",
       "      <td>0.473722</td>\n",
       "      <td>0.479446</td>\n",
       "      <td>0.481469</td>\n",
       "      <td>0.480553</td>\n",
       "      <td>0.480820</td>\n",
       "      <td>0.471945</td>\n",
       "      <td>0.487475</td>\n",
       "      <td>0.474332</td>\n",
       "      <td>0.474592</td>\n",
       "      <td>0.480154</td>\n",
       "      <td>0.466854</td>\n",
       "      <td>1.5</td>\n",
       "      <td>1</td>\n",
       "      <td>0</td>\n",
       "      <td>1</td>\n",
       "    </tr>\n",
       "    <tr>\n",
       "      <th>3</th>\n",
       "      <td>vox_1.5_1_D1_S1.mat</td>\n",
       "      <td>0.437433</td>\n",
       "      <td>0.430403</td>\n",
       "      <td>0.426044</td>\n",
       "      <td>0.442343</td>\n",
       "      <td>0.437075</td>\n",
       "      <td>0.437571</td>\n",
       "      <td>0.436529</td>\n",
       "      <td>0.456245</td>\n",
       "      <td>0.437329</td>\n",
       "      <td>0.437040</td>\n",
       "      <td>0.431327</td>\n",
       "      <td>0.438650</td>\n",
       "      <td>1.5</td>\n",
       "      <td>1</td>\n",
       "      <td>1</td>\n",
       "      <td>1</td>\n",
       "    </tr>\n",
       "    <tr>\n",
       "      <th>4</th>\n",
       "      <td>vox_1.5_2_D0_S0.mat</td>\n",
       "      <td>0.930531</td>\n",
       "      <td>0.930478</td>\n",
       "      <td>0.930503</td>\n",
       "      <td>0.930489</td>\n",
       "      <td>1.125583</td>\n",
       "      <td>1.125570</td>\n",
       "      <td>1.125572</td>\n",
       "      <td>1.125580</td>\n",
       "      <td>0.930520</td>\n",
       "      <td>0.930522</td>\n",
       "      <td>0.930465</td>\n",
       "      <td>0.930500</td>\n",
       "      <td>1.5</td>\n",
       "      <td>0</td>\n",
       "      <td>0</td>\n",
       "      <td>2</td>\n",
       "    </tr>\n",
       "  </tbody>\n",
       "</table>\n",
       "</div>"
      ],
      "text/plain": [
       "                 fname        X1        X2        X3        X4        Y1  \\\n",
       "0  vox_1.5_1_D0_S0.mat  0.930477  0.930497  0.930508  0.930518  1.125532   \n",
       "1  vox_1.5_1_D0_S1.mat  0.678586  0.683349  0.683018  0.688339  0.746435   \n",
       "2  vox_1.5_1_D1_S0.mat  0.485466  0.473722  0.479446  0.481469  0.480553   \n",
       "3  vox_1.5_1_D1_S1.mat  0.437433  0.430403  0.426044  0.442343  0.437075   \n",
       "4  vox_1.5_2_D0_S0.mat  0.930531  0.930478  0.930503  0.930489  1.125583   \n",
       "\n",
       "         Y2        Y3        Y4        Z1        Z2        Z3        Z4  mag  \\\n",
       "0  1.125566  1.125579  1.125552  0.930488  0.930508  0.930488  0.930517  1.5   \n",
       "1  0.739818  0.737046  0.740083  0.682981  0.683390  0.685119  0.681977  1.5   \n",
       "2  0.480820  0.471945  0.487475  0.474332  0.474592  0.480154  0.466854  1.5   \n",
       "3  0.437571  0.436529  0.456245  0.437329  0.437040  0.431327  0.438650  1.5   \n",
       "4  1.125570  1.125572  1.125580  0.930520  0.930522  0.930465  0.930500  1.5   \n",
       "\n",
       "   D  S  exp  \n",
       "0  0  0    1  \n",
       "1  0  1    1  \n",
       "2  1  0    1  \n",
       "3  1  1    1  \n",
       "4  0  0    2  "
      ]
     },
     "execution_count": 56,
     "metadata": {},
     "output_type": "execute_result"
    }
   ],
   "source": [
    "# Write half width data to a dataframe\n",
    "\n",
    "MTF_res = pd.DataFrame(columns=['fname','X1','X2','X3','X4','Y1','Y2','Y3','Y4' \\\n",
    "                                ,'Z1','Z2','Z3','Z4'],index=range(len(files)))\n",
    "for ind,item in enumerate(out):\n",
    "    MTF_res.iloc[ind] = item\n",
    "\n",
    "\n",
    "MTF_res[\"mag\"] = MTF_res[\"fname\"].apply(lambda x: float(x.split('_')[1]))\n",
    "MTF_res[\"D\"] = MTF_res[\"fname\"].apply(lambda x: int(x.split('_')[3][1]))\n",
    "MTF_res[\"S\"] = MTF_res[\"fname\"].apply(lambda x: int(x.split('_')[4][1]))\n",
    "MTF_res[\"exp\"] = MTF_res[\"fname\"].apply(lambda x: int(x.split('_')[2]))\n",
    "\n",
    "MTF_res[['X1','X2','X3','X4','Y1','Y2','Y3','Y4','Z1','Z2','Z3','Z4']] = \\ \n",
    "MTF_res[['X1','X2','X3','X4','Y1','Y2','Y3','Y4','Z1','Z2','Z3','Z4']].astype(np.float64)\n",
    "\n",
    "MTF_res.head()"
   ]
  },
  {
   "cell_type": "code",
   "execution_count": 57,
   "metadata": {
    "collapsed": true
   },
   "outputs": [],
   "source": [
    "MTF_res.to_pickle('MTFHalfInterp.p') # save to disk"
   ]
  },
  {
   "cell_type": "markdown",
   "metadata": {},
   "source": [
    "-------------------------------------------------------------------------------------------------------"
   ]
  },
  {
   "cell_type": "code",
   "execution_count": 86,
   "metadata": {
    "collapsed": true
   },
   "outputs": [],
   "source": [
    "# imports\n",
    "from sortedcontainers import SortedSet\n",
    "from scipy.optimize import curve_fit, fsolve\n",
    "from scipy import interpolate"
   ]
  },
  {
   "cell_type": "code",
   "execution_count": 74,
   "metadata": {
    "collapsed": true
   },
   "outputs": [],
   "source": [
    "# calculate radial coordinate of all voxels in a plane\n",
    "%%px --local\n",
    "x = np.linspace(-35,35,301)\n",
    "y = np.linspace(-35,35,301)\n",
    "\n",
    "X,Y = np.meshgrid(x,y)\n",
    "\n",
    "r = np.zeros_like(X)\n",
    "theta = np.zeros_like(X)\n",
    "for i in range(301):\n",
    "    for j in range(301):\n",
    "        r[i,j] = np.sqrt(X[i,j]**2+Y[i,j]**2)"
   ]
  },
  {
   "cell_type": "code",
   "execution_count": 77,
   "metadata": {
    "collapsed": true
   },
   "outputs": [],
   "source": [
    "%%px --local\n",
    "def oversampled_edge(slice_,rs):\n",
    "    '''\n",
    "    Calculates edge profile from all voxels in a given plane\n",
    "    '''\n",
    "    \n",
    "    rs = rs.flatten()\n",
    "    sorted_set_rs = SortedSet(list(rs))\n",
    "    \n",
    "    # sort voxels by their radial distance from the origin\n",
    "    index = np.argsort(rs) \n",
    "    sortedr = rs[index]\n",
    "    slice_ = slice_.flatten()\n",
    "    slice_ordered = slice_[index]\n",
    "    \n",
    "    # average the value for voxels at an equal distance\n",
    "    out = []\n",
    "    for r in sorted_set_rs:\n",
    "        out.append(slice_ordered[sortedr == r].mean()) \n",
    "    \n",
    "    return np.array(sorted_set_rs),np.array(out)\n",
    "\n",
    "\n",
    "def profiles(fname,r):\n",
    "    '''\n",
    "    Calaculates edge profile for xy-plane,xz-plane and yz-plane\n",
    "    '''\n",
    "    \n",
    "    sphere = h5py.File(fname)['img']['vox'].value\n",
    "    slice_x = sphere[150,:,:]\n",
    "    slice_y = sphere[:,150,:]\n",
    "    slice_z = sphere[:,:,150]\n",
    "    \n",
    "    _,bx = oversampled_edge(slice_x,r)\n",
    "    _,by = oversampled_edge(slice_y,r)\n",
    "    _,bz = oversampled_edge(slice_z,r)\n",
    "    \n",
    "    \n",
    "    \n",
    "    return bx,by,bz\n",
    "\n",
    "def dummy_foo(file):\n",
    "    '''\n",
    "    Dummy function for use in parrallel map\n",
    "    '''\n",
    "    x,y,z =  profiles(file,r)\n",
    "    return (x,y,z)"
   ]
  },
  {
   "cell_type": "code",
   "execution_count": 76,
   "metadata": {
    "collapsed": false
   },
   "outputs": [],
   "source": [
    "%%px --local\n",
    "rs = r.flatten()\n",
    "sorted_set_rs = SortedSet(list(rs))\n",
    "index = np.argsort(rs)\n",
    "sortedr = rs[index]"
   ]
  },
  {
   "cell_type": "code",
   "execution_count": 79,
   "metadata": {
    "collapsed": false
   },
   "outputs": [],
   "source": [
    "out = lview.map(dummy_foo,files) # parallel loop over all voxel data"
   ]
  },
  {
   "cell_type": "code",
   "execution_count": 81,
   "metadata": {
    "collapsed": true
   },
   "outputs": [],
   "source": [
    "def sigmoid(x, a,x0, k,d):\n",
    "    '''\n",
    "    define sigmoid function for fitting\n",
    "    '''\n",
    "    y = a / (1 + np.exp(-k*(x-x0))) + d\n",
    "    return y\n",
    "\n",
    "sorted_rs = np.array(sorted_set_rs)\n",
    "\n",
    "def fit_sigmoid(profile):\n",
    "    '''\n",
    "    fit a sigmoid function to a given profile\n",
    "    '''\n",
    "    popt, pcov = curve_fit(sigmoid, sorted_rs, profile)\n",
    "    return popt"
   ]
  },
  {
   "cell_type": "code",
   "execution_count": 82,
   "metadata": {
    "collapsed": true
   },
   "outputs": [],
   "source": [
    "# store the coefficents of all fitted sigmoids in an array\n",
    "\n",
    "sig_coeffs = []\n",
    "for file in out:\n",
    "    file_coeffs = []\n",
    "    for slice_ in file:\n",
    "        file_coeffs.append(fit_sigmoid(slice_))\n",
    "    sig_coeffs.append(file_coeffs)"
   ]
  },
  {
   "cell_type": "code",
   "execution_count": 87,
   "metadata": {
    "collapsed": false
   },
   "outputs": [],
   "source": [
    "def MTF(coeffs):\n",
    "    '''\n",
    "    Calculate MTF from a set of coefficents which determine a sigmoid\n",
    "    '''\n",
    "    \n",
    "    rss = np.linspace(25,35,100)\n",
    "    \n",
    "    Y = sigmoid(rss,*coeffs)\n",
    "    dY = np.diff(Y)\n",
    "    MTF = np.abs(np.fft.fftshift(np.fft.fft(dY)))\n",
    "    \n",
    "    f = interpolate.interp1d(np.linspace(-10,10,99),MTF) # interpolate MTF\n",
    "    \n",
    "    # solve function to find half width\n",
    "    def opti_f(x):\n",
    "        return f(x) - 0.5\n",
    "    \n",
    "    half_width = brentq(opti_f,0,5)\n",
    "    \n",
    "    return half_width,MTF"
   ]
  },
  {
   "cell_type": "code",
   "execution_count": 88,
   "metadata": {
    "collapsed": true
   },
   "outputs": [],
   "source": [
    "# Write all halfwidths to csv file\n",
    "fout = open('halfwidths.dat','w')\n",
    "MTFS = []\n",
    "for ind,file in enumerate(files):\n",
    "    fout.write(file)\n",
    "    MTF_file = []\n",
    "    for i in range(3):\n",
    "        width,modtransfunc = MTF(sig_coeffs[ind][i])\n",
    "        fout.write(','+str(width))\n",
    "        fout.write(','+str(sig_coeffs[ind][i][1]))\n",
    "        fout.write(','+str(sig_coeffs[ind][i][2]))\n",
    "        MTF_file.append(modtransfunc)\n",
    "    fout.write('\\n')\n",
    "    MTFS.append(MTF_file)\n",
    "fout.close()"
   ]
  },
  {
   "cell_type": "code",
   "execution_count": 95,
   "metadata": {
    "collapsed": false
   },
   "outputs": [
    {
     "data": {
      "text/html": [
       "<div>\n",
       "<table border=\"1\" class=\"dataframe\">\n",
       "  <thead>\n",
       "    <tr style=\"text-align: right;\">\n",
       "      <th></th>\n",
       "      <th>name</th>\n",
       "      <th>xslice</th>\n",
       "      <th>xslice_radius</th>\n",
       "      <th>xslice_slope</th>\n",
       "      <th>yslice</th>\n",
       "      <th>yslice_radius</th>\n",
       "      <th>yslice_slope</th>\n",
       "      <th>zslice</th>\n",
       "      <th>zslice_radius</th>\n",
       "      <th>zslice_slope</th>\n",
       "      <th>Index</th>\n",
       "      <th>mag</th>\n",
       "      <th>exp</th>\n",
       "      <th>Soffset</th>\n",
       "      <th>Doffset</th>\n",
       "    </tr>\n",
       "  </thead>\n",
       "  <tbody>\n",
       "    <tr>\n",
       "      <th>0</th>\n",
       "      <td>/scratch/jdg1g14/all_resultspc1/vox_1.5_1_D0_S...</td>\n",
       "      <td>1.117422</td>\n",
       "      <td>29.980251</td>\n",
       "      <td>4.962754</td>\n",
       "      <td>0.852496</td>\n",
       "      <td>29.993956</td>\n",
       "      <td>3.784164</td>\n",
       "      <td>0.852498</td>\n",
       "      <td>29.993955</td>\n",
       "      <td>3.784173</td>\n",
       "      <td>0</td>\n",
       "      <td>1.5</td>\n",
       "      <td>1</td>\n",
       "      <td>0</td>\n",
       "      <td>0</td>\n",
       "    </tr>\n",
       "    <tr>\n",
       "      <th>1</th>\n",
       "      <td>/scratch/jdg1g14/all_resultspc1/vox_1.5_1_D0_S...</td>\n",
       "      <td>0.752174</td>\n",
       "      <td>29.990553</td>\n",
       "      <td>3.332433</td>\n",
       "      <td>0.690748</td>\n",
       "      <td>29.990173</td>\n",
       "      <td>3.050705</td>\n",
       "      <td>0.690348</td>\n",
       "      <td>29.990156</td>\n",
       "      <td>3.048941</td>\n",
       "      <td>1</td>\n",
       "      <td>1.5</td>\n",
       "      <td>1</td>\n",
       "      <td>1</td>\n",
       "      <td>0</td>\n",
       "    </tr>\n",
       "    <tr>\n",
       "      <th>2</th>\n",
       "      <td>/scratch/jdg1g14/all_resultspc1/vox_1.5_1_D1_S...</td>\n",
       "      <td>0.481796</td>\n",
       "      <td>29.980785</td>\n",
       "      <td>2.108766</td>\n",
       "      <td>0.480884</td>\n",
       "      <td>29.979794</td>\n",
       "      <td>2.105463</td>\n",
       "      <td>0.479564</td>\n",
       "      <td>29.981178</td>\n",
       "      <td>2.099464</td>\n",
       "      <td>2</td>\n",
       "      <td>1.5</td>\n",
       "      <td>1</td>\n",
       "      <td>0</td>\n",
       "      <td>1</td>\n",
       "    </tr>\n",
       "    <tr>\n",
       "      <th>3</th>\n",
       "      <td>/scratch/jdg1g14/all_resultspc1/vox_1.5_1_D1_S...</td>\n",
       "      <td>0.443328</td>\n",
       "      <td>29.979673</td>\n",
       "      <td>1.946244</td>\n",
       "      <td>0.441921</td>\n",
       "      <td>29.978216</td>\n",
       "      <td>1.941053</td>\n",
       "      <td>0.441271</td>\n",
       "      <td>29.976192</td>\n",
       "      <td>1.938591</td>\n",
       "      <td>3</td>\n",
       "      <td>1.5</td>\n",
       "      <td>1</td>\n",
       "      <td>1</td>\n",
       "      <td>1</td>\n",
       "    </tr>\n",
       "    <tr>\n",
       "      <th>4</th>\n",
       "      <td>/scratch/jdg1g14/all_resultspc1/vox_1.5_2_D0_S...</td>\n",
       "      <td>1.117418</td>\n",
       "      <td>29.980252</td>\n",
       "      <td>4.962735</td>\n",
       "      <td>0.852496</td>\n",
       "      <td>29.993954</td>\n",
       "      <td>3.784162</td>\n",
       "      <td>0.852496</td>\n",
       "      <td>29.993956</td>\n",
       "      <td>3.784162</td>\n",
       "      <td>4</td>\n",
       "      <td>1.5</td>\n",
       "      <td>2</td>\n",
       "      <td>0</td>\n",
       "      <td>0</td>\n",
       "    </tr>\n",
       "  </tbody>\n",
       "</table>\n",
       "</div>"
      ],
      "text/plain": [
       "                                                name    xslice  xslice_radius  \\\n",
       "0  /scratch/jdg1g14/all_resultspc1/vox_1.5_1_D0_S...  1.117422      29.980251   \n",
       "1  /scratch/jdg1g14/all_resultspc1/vox_1.5_1_D0_S...  0.752174      29.990553   \n",
       "2  /scratch/jdg1g14/all_resultspc1/vox_1.5_1_D1_S...  0.481796      29.980785   \n",
       "3  /scratch/jdg1g14/all_resultspc1/vox_1.5_1_D1_S...  0.443328      29.979673   \n",
       "4  /scratch/jdg1g14/all_resultspc1/vox_1.5_2_D0_S...  1.117418      29.980252   \n",
       "\n",
       "   xslice_slope    yslice  yslice_radius  yslice_slope    zslice  \\\n",
       "0      4.962754  0.852496      29.993956      3.784164  0.852498   \n",
       "1      3.332433  0.690748      29.990173      3.050705  0.690348   \n",
       "2      2.108766  0.480884      29.979794      2.105463  0.479564   \n",
       "3      1.946244  0.441921      29.978216      1.941053  0.441271   \n",
       "4      4.962735  0.852496      29.993954      3.784162  0.852496   \n",
       "\n",
       "   zslice_radius  zslice_slope  Index  mag  exp  Soffset  Doffset  \n",
       "0      29.993955      3.784173      0  1.5    1        0        0  \n",
       "1      29.990156      3.048941      1  1.5    1        1        0  \n",
       "2      29.981178      2.099464      2  1.5    1        0        1  \n",
       "3      29.976192      1.938591      3  1.5    1        1        1  \n",
       "4      29.993956      3.784162      4  1.5    2        0        0  "
      ]
     },
     "execution_count": 95,
     "metadata": {},
     "output_type": "execute_result"
    }
   ],
   "source": [
    "# construct a dataframe which stores the halfwidth data\n",
    "\n",
    "df = pd.read_csv('halfwidths.dat',header=None,names=['name','xslice','xslice_radius' \\\n",
    ",'xslice_slope','yslice','yslice_radius','yslice_slope','zslice' \\\n",
    ",'zslice_radius','zslice_slope','Index'])\n",
    "\n",
    "df.Index = df.index\n",
    "\n",
    "df['mag'] = df.name.apply(lambda x : float(x.split('/')[-1].split('_')[1]))\n",
    "df['exp'] = df.name.apply(lambda x : float(x.split('/')[-1].split('_')[2]))\n",
    "df['Soffset'] = df.name.apply(lambda x : 1.0 if x.split('/')[-1].split('_')[4][1] == '1' \\\n",
    "                              else 0.0)\n",
    "df['Doffset'] = df.name.apply(lambda x : 1.0 if x.split('/')[-1].split('_')[3][1] == '1' \\\n",
    "                              else 0.0)\n",
    "df.head()"
   ]
  },
  {
   "cell_type": "code",
   "execution_count": 96,
   "metadata": {
    "collapsed": true
   },
   "outputs": [],
   "source": [
    "df.to_pickle('MTFHalfPolar.p') # save to disk"
   ]
  }
 ],
 "metadata": {
  "kernelspec": {
   "display_name": "Python 3",
   "language": "python",
   "name": "python3"
  },
  "language_info": {
   "codemirror_mode": {
    "name": "ipython",
    "version": 3
   },
   "file_extension": ".py",
   "mimetype": "text/x-python",
   "name": "python",
   "nbconvert_exporter": "python",
   "pygments_lexer": "ipython3",
   "version": "3.3.5"
  }
 },
 "nbformat": 4,
 "nbformat_minor": 0
}
