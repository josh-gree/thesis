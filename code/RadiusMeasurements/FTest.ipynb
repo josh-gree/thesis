{
 "cells": [
  {
   "cell_type": "code",
   "execution_count": 1,
   "metadata": {
    "collapsed": true
   },
   "outputs": [],
   "source": [
    "import pandas as pd"
   ]
  },
  {
   "cell_type": "code",
   "execution_count": 2,
   "metadata": {
    "collapsed": false
   },
   "outputs": [],
   "source": [
    "alldat = pd.read_pickle(\"JustExtraSamples.p\") # load dataframe"
   ]
  },
  {
   "cell_type": "code",
   "execution_count": 3,
   "metadata": {
    "collapsed": false
   },
   "outputs": [],
   "source": [
    "# seperate dataframe into S0D0, S1D0, S0D1 and S1D1 dataframes\n",
    "# calculate statistics over the repetitions (mean,std,var)\n",
    "grouped_initial = alldat.groupby(['Soffset','Doffset'])\n",
    "\n",
    "groups = {}\n",
    "for a,b in grouped_initial:\n",
    "    group = b[['R','x','y','z','mag','Soffset','Doffset']]\n",
    "    groups[a] = {'means':group.groupby(\"mag\").mean(),\n",
    "                 'vars':group.groupby(\"mag\").var(ddof=1),\n",
    "                'stds':group.groupby(\"mag\").std(ddof=1)}"
   ]
  },
  {
   "cell_type": "code",
   "execution_count": 4,
   "metadata": {
    "collapsed": false
   },
   "outputs": [
    {
     "name": "stdout",
     "output_type": "stream",
     "text": [
      "S1D0 v S0D1 @ 1.5 F = 0.17808127558254636 p = 6.431557549971022e-06 => S1D0 < S0D1\n",
      "S1D0 v S0D1 @ 4.0 F = 0.16192360482434365 p = 2.346679599189309e-06 => S1D0 > S0D1\n",
      "\n"
     ]
    }
   ],
   "source": [
    "# Conduct F-test's and output p-values with associated test statistic\n",
    "# F = sigma_1^2 / sigma_2^2\n",
    "\n",
    "from scipy.stats import f\n",
    "\n",
    "S1D0vS0D1_15_pval = f.cdf(groups[(1,0)]['vars'].R.iloc[0]/groups[(0,1)]['vars'].R.iloc[0] \\\n",
    "                          ,29,29)\n",
    "S0D1vS1D0_15_pval = f.cdf(groups[(0,1)]['vars'].R.iloc[0]/groups[(1,0)]['vars'].R.iloc[0] \\\n",
    "                          ,29,29)\n",
    "\n",
    "S1D0vS0D1_4_pval = f.cdf(groups[(1,0)]['vars'].R.iloc[-1]/groups[(0,1)]['vars'].R.iloc[-1] \\\n",
    "                         ,29,29)\n",
    "S0D1vS1D0_4_pval = f.cdf(groups[(0,1)]['vars'].R.iloc[-1]/groups[(1,0)]['vars'].R.iloc[-1] \\\n",
    "                         ,29,29)\n",
    "\n",
    "print('''S1D0 v S0D1 @ 1.5 F = {} p = {} => S1D0 < S0D1\n",
    "S1D0 v S0D1 @ 4.0 F = {} p = {} => S1D0 > S0D1\n",
    "'''.format(groups[(1,0)]['vars'].R.iloc[0]/groups[(0,1)]['vars'].R.iloc[0],S1D0vS0D1_15_pval \\\n",
    "           ,groups[(0,1)]['vars'].R.iloc[-1]/groups[(1,0)]['vars'].R.iloc[-1],S0D1vS1D0_4_pval))"
   ]
  }
 ],
 "metadata": {
  "kernelspec": {
   "display_name": "Python 3",
   "language": "python",
   "name": "python3"
  },
  "language_info": {
   "codemirror_mode": {
    "name": "ipython",
    "version": 3
   },
   "file_extension": ".py",
   "mimetype": "text/x-python",
   "name": "python",
   "nbconvert_exporter": "python",
   "pygments_lexer": "ipython3",
   "version": "3.3.5"
  }
 },
 "nbformat": 4,
 "nbformat_minor": 0
}
