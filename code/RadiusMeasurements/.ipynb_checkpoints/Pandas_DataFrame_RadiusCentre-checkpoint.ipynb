{
 "cells": [
  {
   "cell_type": "code",
   "execution_count": 1,
   "metadata": {
    "collapsed": true
   },
   "outputs": [],
   "source": [
    "import numpy as np\n",
    "import pandas as pd"
   ]
  },
  {
   "cell_type": "code",
   "execution_count": 2,
   "metadata": {
    "collapsed": true
   },
   "outputs": [],
   "source": [
    "N = 301\n",
    "recon_len = 70\n",
    "delta = N/recon_len"
   ]
  },
  {
   "cell_type": "code",
   "execution_count": 3,
   "metadata": {
    "collapsed": true
   },
   "outputs": [],
   "source": [
    "data1 = pd.read_table(\"resultspc1.dat\",sep=\",\")\n",
    "data2 = pd.read_table(\"resultspc2.dat\",sep=\",\")\n",
    "alldat = data1.append(data2)\n",
    "\n",
    "alldat['mag'] = alldat.name.apply(lambda x : float(x.split(\"_\")[1]))\n",
    "alldat['exp'] = alldat.name.apply(lambda x : float(x.split(\"_\")[2]))\n",
    "alldat['Soffset'] = alldat.name.apply(lambda x : 1.0 if x.split(\"_\")[4][1] == '1' else 0.0)\n",
    "alldat['Doffset'] = alldat.name.apply(lambda x : 1.0 if x.split(\"_\")[3][1] == '1' else 0.0)\n",
    "\n",
    "alldat['R'] = alldat['R']/delta\n",
    "alldat['x'] = -35+alldat['x']/delta\n",
    "alldat['y'] = -35+alldat['y']/delta\n",
    "alldat['z'] = -35+alldat['z']/delta\n",
    "\n",
    "alldat['relerrR'] = alldat['R'].apply(lambda x: np.abs(x-30)/30)"
   ]
  },
  {
   "cell_type": "code",
   "execution_count": 4,
   "metadata": {
    "collapsed": false
   },
   "outputs": [
    {
     "data": {
      "text/html": [
       "<div>\n",
       "<table border=\"1\" class=\"dataframe\">\n",
       "  <thead>\n",
       "    <tr style=\"text-align: right;\">\n",
       "      <th></th>\n",
       "      <th>R</th>\n",
       "      <th>x</th>\n",
       "      <th>y</th>\n",
       "      <th>z</th>\n",
       "      <th>name</th>\n",
       "      <th>mag</th>\n",
       "      <th>exp</th>\n",
       "      <th>Soffset</th>\n",
       "      <th>Doffset</th>\n",
       "      <th>relerrR</th>\n",
       "    </tr>\n",
       "  </thead>\n",
       "  <tbody>\n",
       "    <tr>\n",
       "      <th>0</th>\n",
       "      <td>29.914133</td>\n",
       "      <td>0.164897</td>\n",
       "      <td>0.164897</td>\n",
       "      <td>0.116279</td>\n",
       "      <td>vox_1.5_1_D0_S0.mat</td>\n",
       "      <td>1.5</td>\n",
       "      <td>1</td>\n",
       "      <td>0</td>\n",
       "      <td>0</td>\n",
       "      <td>0.002862</td>\n",
       "    </tr>\n",
       "    <tr>\n",
       "      <th>1</th>\n",
       "      <td>29.895642</td>\n",
       "      <td>0.164758</td>\n",
       "      <td>0.164776</td>\n",
       "      <td>0.118824</td>\n",
       "      <td>vox_1.5_1_D0_S1.mat</td>\n",
       "      <td>1.5</td>\n",
       "      <td>1</td>\n",
       "      <td>1</td>\n",
       "      <td>0</td>\n",
       "      <td>0.003479</td>\n",
       "    </tr>\n",
       "    <tr>\n",
       "      <th>2</th>\n",
       "      <td>29.880377</td>\n",
       "      <td>0.164863</td>\n",
       "      <td>0.164747</td>\n",
       "      <td>0.115755</td>\n",
       "      <td>vox_1.5_1_D1_S0.mat</td>\n",
       "      <td>1.5</td>\n",
       "      <td>1</td>\n",
       "      <td>0</td>\n",
       "      <td>1</td>\n",
       "      <td>0.003987</td>\n",
       "    </tr>\n",
       "    <tr>\n",
       "      <th>3</th>\n",
       "      <td>29.876217</td>\n",
       "      <td>0.165611</td>\n",
       "      <td>0.165813</td>\n",
       "      <td>0.117365</td>\n",
       "      <td>vox_1.5_1_D1_S1.mat</td>\n",
       "      <td>1.5</td>\n",
       "      <td>1</td>\n",
       "      <td>1</td>\n",
       "      <td>1</td>\n",
       "      <td>0.004126</td>\n",
       "    </tr>\n",
       "    <tr>\n",
       "      <th>4</th>\n",
       "      <td>29.914133</td>\n",
       "      <td>0.164897</td>\n",
       "      <td>0.164897</td>\n",
       "      <td>0.116279</td>\n",
       "      <td>vox_1.5_2_D0_S0.mat</td>\n",
       "      <td>1.5</td>\n",
       "      <td>2</td>\n",
       "      <td>0</td>\n",
       "      <td>0</td>\n",
       "      <td>0.002862</td>\n",
       "    </tr>\n",
       "  </tbody>\n",
       "</table>\n",
       "</div>"
      ],
      "text/plain": [
       "           R         x         y         z                 name  mag  exp  \\\n",
       "0  29.914133  0.164897  0.164897  0.116279  vox_1.5_1_D0_S0.mat  1.5    1   \n",
       "1  29.895642  0.164758  0.164776  0.118824  vox_1.5_1_D0_S1.mat  1.5    1   \n",
       "2  29.880377  0.164863  0.164747  0.115755  vox_1.5_1_D1_S0.mat  1.5    1   \n",
       "3  29.876217  0.165611  0.165813  0.117365  vox_1.5_1_D1_S1.mat  1.5    1   \n",
       "4  29.914133  0.164897  0.164897  0.116279  vox_1.5_2_D0_S0.mat  1.5    2   \n",
       "\n",
       "   Soffset  Doffset   relerrR  \n",
       "0        0        0  0.002862  \n",
       "1        1        0  0.003479  \n",
       "2        0        1  0.003987  \n",
       "3        1        1  0.004126  \n",
       "4        0        0  0.002862  "
      ]
     },
     "execution_count": 4,
     "metadata": {},
     "output_type": "execute_result"
    }
   ],
   "source": [
    "alldat.head()"
   ]
  },
  {
   "cell_type": "code",
   "execution_count": 5,
   "metadata": {
    "collapsed": true
   },
   "outputs": [],
   "source": [
    "alldat.to_pickle('RadiusCentre.p')"
   ]
  },
  {
   "cell_type": "code",
   "execution_count": 6,
   "metadata": {
    "collapsed": true
   },
   "outputs": [],
   "source": [
    "extradat1 = pd.read_table(\"extraresultsD1S0.dat\",sep=\",\")\n",
    "extradat2 = pd.read_table(\"extraresultsD0S1.dat\",sep=\",\")\n",
    "\n",
    "allextradat = extradat1.append(extradat2)\n",
    "\n",
    "allextradat['mag'] = allextradat.name.apply(lambda x : float(x.split(\"_\")[1]))\n",
    "allextradat['exp'] = allextradat.name.apply(lambda x : float(x.split(\"_\")[2]) + 10)\n",
    "allextradat['Soffset'] = allextradat.name.apply(lambda x : 1.0 if x.split(\"_\")[4][1] == '1' \\\n",
    "                                                else 0.0)\n",
    "allextradat['Doffset'] = allextradat.name.apply(lambda x : 1.0 if x.split(\"_\")[3][1] == '1' \\\n",
    "                                                else 0.0)\n",
    "\n",
    "allextradat['R'] = allextradat['R']/delta\n",
    "allextradat['x'] = -35+allextradat['x']/delta\n",
    "allextradat['y'] = -35+allextradat['y']/delta\n",
    "allextradat['z'] = -35+allextradat['z']/delta\n",
    "\n",
    "alldat2 = alldat\n",
    "alldat2 = alldat2.append(allextradat)"
   ]
  },
  {
   "cell_type": "code",
   "execution_count": 7,
   "metadata": {
    "collapsed": true
   },
   "outputs": [],
   "source": [
    "alldat2.to_pickle('RadiusCentreExtraSamples.p')"
   ]
  },
  {
   "cell_type": "code",
   "execution_count": 8,
   "metadata": {
    "collapsed": false
   },
   "outputs": [],
   "source": [
    "mags = alldat.mag.unique()\n",
    "extrasamplesdat2 = alldat2[(alldat2.mag == mags[0]) | (alldat2.mag == mags[2]) | \\\n",
    "                           (alldat2.mag == mags[-1])]\n",
    "extrasamplesdat2.to_pickle('JustExtraSamples.p')"
   ]
  }
 ],
 "metadata": {
  "kernelspec": {
   "display_name": "Python 3",
   "language": "python",
   "name": "python3"
  },
  "language_info": {
   "codemirror_mode": {
    "name": "ipython",
    "version": 3
   },
   "file_extension": ".py",
   "mimetype": "text/x-python",
   "name": "python",
   "nbconvert_exporter": "python",
   "pygments_lexer": "ipython3",
   "version": "3.3.5"
  }
 },
 "nbformat": 4,
 "nbformat_minor": 0
}
